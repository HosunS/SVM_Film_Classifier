{
 "cells": [
  {
   "cell_type": "markdown",
   "id": "a3b9094f-21c0-4683-b490-beb5ef42c23e",
   "metadata": {},
   "source": [
    "# CS178 Final Project\n",
    "## IMDB Reviews dataset\n",
    "### Students:\n",
    "Rebecca Park : \\\n",
    "Nick Hosun Song : 65482420"
   ]
  },
  {
   "cell_type": "code",
   "execution_count": 1,
   "id": "3280e749-2ee9-40e6-bfe5-088812ff0a19",
   "metadata": {},
   "outputs": [],
   "source": [
    "import numpy as py\n",
    "import pandas as pd\n",
    "import matplotlib.pyplot as plt\n",
    "from scipy.sparse import csr_matrix, vstack\n",
    "from sklearn.linear_model import LogisticRegression\n",
    "from sklearn.svm import SVC\n",
    "from sklearn.metrics import accuracy_score, classification_report\n",
    "from scipy.sparse import csr_matrix\n",
    "## conda install libsvm\n",
    "## conda install libsvm-python\n",
    "from libsvm.svmutil import svm_train, svm_predict, svm_problem, svm_parameter , svm_read_problem\n",
    "\n"
   ]
  },
  {
   "cell_type": "code",
   "execution_count": 2,
   "id": "f885b952-75b6-4af0-ae1c-36994bd6876e",
   "metadata": {},
   "outputs": [
    {
     "name": "stdout",
     "output_type": "stream",
     "text": [
      "Accuracy: 0.86764\n",
      "Classification Report:\n",
      "               precision    recall  f1-score   support\n",
      "\n",
      "           0       0.86      0.87      0.87     12500\n",
      "           1       0.87      0.86      0.87     12500\n",
      "\n",
      "    accuracy                           0.87     25000\n",
      "   macro avg       0.87      0.87      0.87     25000\n",
      "weighted avg       0.87      0.87      0.87     25000\n",
      "\n"
     ]
    }
   ],
   "source": [
    "#Load the vocab from given data will correlate to bagofwords(feat) file\n",
    "def load_vocab(vocab_file):\n",
    "    with open(vocab_file, 'r',encoding ='utf-8') as file:\n",
    "        vocab = file.read().splitlines()\n",
    "    return {index: word for index, word in enumerate(vocab)}\n",
    "#convert data from svm_read_problem into csr to se for logistic regression\n",
    "#format for csr [data] , [indices], [indexptr]\n",
    "def convert_to_csr(data, num_features):\n",
    "    row_ind = []\n",
    "    col_ind = []\n",
    "    data_values = []\n",
    "\n",
    "    for i, row in enumerate(data):\n",
    "        for j, value in row.items():\n",
    "            row_ind.append(i)\n",
    "            col_ind.append(j)\n",
    "            data_values.append(value)\n",
    "\n",
    "    csr_data = csr_matrix((data_values, (row_ind, col_ind)), shape=(len(data), num_features))\n",
    "    return csr_data\n",
    "    \n",
    "vocab = load_vocab('imdb.vocab')\n",
    "\n",
    "# Format of libsvm files : <label> { (feature index from imdb.vocab) : (appears this many times in review) ... }\n",
    "y_train, X_train = svm_read_problem('train/labeledBow.feat')\n",
    "y_test, X_test = svm_read_problem('test/labeledBow.feat')\n",
    "\n",
    "num_features = len(vocab)\n",
    "\n",
    "X_train_csr = convert_to_csr(X_train,num_features)\n",
    "X_test_csr = convert_to_csr(X_test,num_features)\n",
    "\n",
    "# 1 ( 7, 8 , 9 ,10)  for positive reviews, 0 (1,2,3,4) for negative reviews\n",
    "y_train_bin = [1 if y > 6 else 0 for y in y_train]\n",
    "y_test_bin = [1 if y > 6 else 0 for y in y_test] \n",
    "\n",
    "log_reg_model = LogisticRegression(max_iter=5000)\n",
    "log_reg_model.fit(X_train_csr,y_train_bin)\n",
    "\n",
    "y_pred = log_reg_model.predict(X_test_csr)\n",
    "print(\"Accuracy:\",accuracy_score(y_test_bin,y_pred))\n",
    "print(\"Classification Report:\\n\", classification_report(y_test_bin,y_pred))\n"
   ]
  },
  {
   "cell_type": "code",
   "execution_count": null,
   "id": "d2edf53c-f1ad-4901-86bd-e98dacf58bb4",
   "metadata": {},
   "outputs": [],
   "source": []
  }
 ],
 "metadata": {
  "kernelspec": {
   "display_name": "Python 3 (ipykernel)",
   "language": "python",
   "name": "python3"
  },
  "language_info": {
   "codemirror_mode": {
    "name": "ipython",
    "version": 3
   },
   "file_extension": ".py",
   "mimetype": "text/x-python",
   "name": "python",
   "nbconvert_exporter": "python",
   "pygments_lexer": "ipython3",
   "version": "3.10.13"
  }
 },
 "nbformat": 4,
 "nbformat_minor": 5
}
