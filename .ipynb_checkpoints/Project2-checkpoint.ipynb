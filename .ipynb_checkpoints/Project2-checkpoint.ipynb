{
 "cells": [
  {
   "cell_type": "markdown",
   "id": "a3b9094f-21c0-4683-b490-beb5ef42c23e",
   "metadata": {},
   "source": [
    "# CS178 Final Project\n",
    "## IMDB Reviews dataset\n",
    "### Students:\n",
    "Rebecca Park : 50269810\n",
    "Nick Hosun Song : 65482420"
   ]
  },
  {
   "cell_type": "code",
   "execution_count": 2,
   "id": "3280e749-2ee9-40e6-bfe5-088812ff0a19",
   "metadata": {},
   "outputs": [],
   "source": [
    "import numpy as np\n",
    "import pandas as pd\n",
    "import matplotlib.pyplot as plt\n",
    "from scipy.sparse import csr_matrix, vstack\n",
    "from sklearn.naive_bayes import MultinomialNB\n",
    "from sklearn.svm import SVC , LinearSVC\n",
    "from sklearn.metrics import accuracy_score, precision_score, recall_score, f1_score , make_scorer, zero_one_loss\n",
    "from scipy.sparse import csr_matrix\n",
    "from sklearn.preprocessing import PolynomialFeatures\n",
    "from sklearn.model_selection import cross_val_score, cross_validate, GridSearchCV, train_test_split\n",
    "from sklearn.pipeline import Pipeline\n",
    "from sklearn.tree import DecisionTreeClassifier\n",
    "from sklearn.ensemble import StackingRegressor\n",
    "## conda install libsvm\n",
    "## conda install libsvm-python\n",
    "from libsvm.svmutil import svm_train, svm_predict, svm_problem, svm_parameter , svm_read_problem\n"
   ]
  },
  {
   "cell_type": "code",
   "execution_count": 3,
   "id": "f885b952-75b6-4af0-ae1c-36994bd6876e",
   "metadata": {},
   "outputs": [],
   "source": [
    "#Load the vocab from given data will correlate to bagofwords(feat) file\n",
    "def load_vocab(vocab_file):\n",
    "    with open(vocab_file, 'r',encoding ='utf-8') as file:\n",
    "        vocab = file.read().splitlines()\n",
    "    return {index: word for index, word in enumerate(vocab)}\n",
    "\n",
    "vocab = load_vocab('imdb.vocab')\n",
    "def convert_to_csr(data, num_features):\n",
    "    row_ind = []\n",
    "    col_ind = []\n",
    "    data_values = []\n",
    "\n",
    "    for i, row in enumerate(data):\n",
    "        for feature_index, feature_value in row.items():\n",
    "            row_ind.append(i)\n",
    "            col_ind.append(feature_index)\n",
    "            data_values.append(feature_value)\n",
    "\n",
    "    return csr_matrix((data_values, (row_ind, col_ind)), shape=(len(data), num_features))\n",
    "\n",
    "num_features = len(vocab)\n",
    "\n",
    "y_train, X_train = svm_read_problem('train/labeledBow.feat')\n",
    "y_test, X_test = svm_read_problem('test/labeledBow.feat')\n",
    "\n",
    "X_train_csr = convert_to_csr(X_train,num_features)\n",
    "X_test_csr = convert_to_csr(X_test,num_features)\n",
    "\n",
    "#convert labels into binary format\n",
    "#positive = 1 (7 , 8 , 9 , 10)\n",
    "#negative = 0 (1, 2 , 3 , 4)\n",
    "y_train_binary = [1 if y > 6 else 0 for y in y_train]\n",
    "y_test_binary = [1 if y > 6 else 0 for y in y_test]\n",
    "\n",
    "X_train_split, X_val_split, y_train_split, y_val_split = train_test_split( X_train_csr, y_train_binary, test_size=0.2, random_state=123)\n"
   ]
  },
  {
   "cell_type": "markdown",
   "id": "1257b8d6-bc25-4909-9974-36189e978fbd",
   "metadata": {},
   "source": [
    "## Sentiment Analysis\n",
    "We are focusing on creating a sentiment analysis which is a natural language processing task that tries to determine \n",
    "the emotional tone of a piece of text which in our case is an IMDB movie review. We will be classifying our data into \n",
    "positive (1) and negative (0) labels. Our data was provided to us in a .feat format so all we had to do for data preprocessing\n",
    "was convert the format into csr in order for us to be able to use Scikit_learn packages."
   ]
  },
  {
   "cell_type": "markdown",
   "id": "580b1b38-c57d-4c6f-bde0-7cecd71778b8",
   "metadata": {},
   "source": [
    "## Naive Bayes\n",
    "The first model is Naive Bayes which assumes that all the features are independent of each other. Although we know that there are contextual relationships between words we use this as a baseline as Naive Bayes is a simple but somewhat effective model for text classification tasks."
   ]
  },
  {
   "cell_type": "code",
   "execution_count": 4,
   "id": "a20cddbf-8a05-4447-bc6a-fb5445a881a5",
   "metadata": {},
   "outputs": [
    {
     "name": "stdout",
     "output_type": "stream",
     "text": [
      "Training Error Rate: 0.1000\n",
      "Training F1 Score: 0.8962\n",
      "Test Error Rate: 0.1864\n",
      "Test F1 Score: 0.8010\n"
     ]
    }
   ],
   "source": [
    "# Assuming X_train_csr, y_train_binary, X_test_csr, y_test_binary are defined\n",
    "\n",
    "# Initialize Naive Bayes model\n",
    "model = MultinomialNB()\n",
    "\n",
    "# Train the model using the training set\n",
    "model.fit(X_train_csr, y_train_binary)\n",
    "\n",
    "# Make predictions for both the training and test sets\n",
    "y_pred_train = model.predict(X_train_csr)\n",
    "y_pred_test = model.predict(X_test_csr)\n",
    "\n",
    "# Calculate the error rate and F1 score for the training set\n",
    "train_error_rate = 1 - accuracy_score(y_train_binary, y_pred_train)\n",
    "train_f1_score = f1_score(y_train_binary, y_pred_train)\n",
    "\n",
    "# Calculate the error rate and F1 score for the test set\n",
    "test_error_rate = 1 - accuracy_score(y_test_binary, y_pred_test)\n",
    "test_f1_score = f1_score(y_test_binary, y_pred_test)\n",
    "\n",
    "# Print the results\n",
    "print(f\"Training Error Rate: {train_error_rate:.4f}\")\n",
    "print(f\"Training F1 Score: {train_f1_score:.4f}\")\n",
    "print(f\"Test Error Rate: {test_error_rate:.4f}\")\n",
    "print(f\"Test F1 Score: {test_f1_score:.4f}\")\n"
   ]
  },
  {
   "cell_type": "markdown",
   "id": "3a75dc97-6ff1-4b0e-949c-573af7cc89b5",
   "metadata": {},
   "source": [
    "## Linear SVM\n",
    "The second type of model we chose was an SVM with a linear kernel. The linear kernel tends to work well when data is linearly separable in a feature space.\n",
    "The hyperparameter that we chose to tune was the regularization strength parameter (C). We chose to use L2 regularization as it doesn't force feature selection as aggressively as L1 regularization. Tuning the reglarization is done in order to prevent overfitting and improve the generalization of the model. The strength parameter C encourages the model to have smaller weights/coefficients for each of the features, which will make the model less sensitive to the noise in the training data. This will help us control the margin between the decision boundary and the training points. In using a Linear SVM we are aiming to find the decision boundary that maximizes the margin between the classes while also correctly classifying the training examples. "
   ]
  },
  {
   "cell_type": "code",
   "execution_count": 5,
   "id": "647d3624-4c43-4e8d-abf7-e17b7b4376c5",
   "metadata": {},
   "outputs": [
    {
     "name": "stdout",
     "output_type": "stream",
     "text": [
      "C = 1e-05\n",
      "Validation Error Rate: 0.2356\n",
      "Validation F1 Score: 0.7637\n",
      "Test Error Rate: 0.2308\n",
      "Test F1 Score: 0.7691\n",
      "\n",
      "C = 0.0001\n",
      "Validation Error Rate: 0.1446\n",
      "Validation F1 Score: 0.8566\n",
      "Test Error Rate: 0.1557\n",
      "Test F1 Score: 0.8461\n",
      "\n",
      "C = 0.001\n",
      "Validation Error Rate: 0.1074\n",
      "Validation F1 Score: 0.8926\n",
      "Test Error Rate: 0.1203\n",
      "Test F1 Score: 0.8804\n",
      "\n",
      "C = 0.01\n",
      "Validation Error Rate: 0.1052\n",
      "Validation F1 Score: 0.8947\n",
      "Test Error Rate: 0.1234\n",
      "Test F1 Score: 0.8767\n",
      "\n",
      "C = 0.1\n",
      "Validation Error Rate: 0.1198\n",
      "Validation F1 Score: 0.8794\n",
      "Test Error Rate: 0.1420\n",
      "Test F1 Score: 0.8570\n",
      "\n",
      "C = 1\n",
      "Validation Error Rate: 0.1278\n",
      "Validation F1 Score: 0.8715\n",
      "Test Error Rate: 0.1530\n",
      "Test F1 Score: 0.8454\n",
      "\n"
     ]
    },
    {
     "data": {
      "image/png": "[encoded data removed]",
      "text/plain": [
       "<Figure size 1000x400 with 1 Axes>"
      ]
     },
     "metadata": {},
     "output_type": "display_data"
    },
    {
     "data": {
      "image/png": "[encoded data removed]",
      "text/plain": [
       "<Figure size 1000x400 with 1 Axes>"
      ]
     },
     "metadata": {},
     "output_type": "display_data"
    }
   ],
   "source": [
    "# Testing with linear kernel with different regularization strengths and cross-validation to test different metrics\n",
    "C_values = [0.00001, 0.0001, 0.001, 0.01, 0.1, 1]\n",
    "\n",
    "# Dictionaries to store validation and test metrics\n",
    "val_metrics_linear = {'error_rate': [], 'f1': []}\n",
    "test_metrics_linear = {'error_rate': [], 'f1': []}\n",
    "\n",
    "# Loop through and create a model for each regularization strength\n",
    "for C in C_values:\n",
    "    model = LinearSVC(C=C, dual=False, max_iter=5000)\n",
    "    model.fit(X_train_split, y_train_split)\n",
    "\n",
    "    # Validate the model\n",
    "    y_pred_val = model.predict(X_val_split)\n",
    "    val_metrics_linear['error_rate'].append(1 - accuracy_score(y_val_split, y_pred_val))\n",
    "    val_metrics_linear['f1'].append(f1_score(y_val_split, y_pred_val))\n",
    "\n",
    "    # Test the model\n",
    "    y_pred_test = model.predict(X_test_csr)\n",
    "    test_metrics_linear['error_rate'].append(1 - accuracy_score(y_test_binary, y_pred_test))\n",
    "    test_metrics_linear['f1'].append(f1_score(y_test_binary, y_pred_test))\n",
    "\n",
    "    # Print the results for each C value\n",
    "    print(f\"C = {C}\")\n",
    "    print(f\"Validation Error Rate: {val_metrics_linear['error_rate'][-1]:.4f}\")\n",
    "    print(f\"Validation F1 Score: {val_metrics_linear['f1'][-1]:.4f}\")\n",
    "    print(f\"Test Error Rate: {test_metrics_linear['error_rate'][-1]:.4f}\")\n",
    "    print(f\"Test F1 Score: {test_metrics_linear['f1'][-1]:.4f}\")\n",
    "    print()\n",
    "\n",
    "def plot_metric(metric, title):\n",
    "    plt.plot(C_values, val_metrics_linear[metric], marker='o', color='b', label='Val ' + title)\n",
    "    plt.plot(C_values, test_metrics_linear[metric], linestyle='--', marker='x', color='r', label='Test ' + title)\n",
    "    plt.xscale('log')\n",
    "    plt.xlabel('C (Regularization Strength)')\n",
    "    plt.ylabel(title)\n",
    "    plt.title(title)\n",
    "    plt.legend()\n",
    "\n",
    "# Plot the metrics for error rate and F1 score\n",
    "plt.figure(figsize=(10, 4))\n",
    "plot_metric('error_rate', 'Error Rate')\n",
    "\n",
    "plt.figure(figsize=(10, 4))\n",
    "plot_metric('f1', 'F1 Score')\n",
    "\n",
    "plt.tight_layout()\n",
    "plt.show()\n"
   ]
  },
  {
   "cell_type": "markdown",
   "id": "4130006e-2273-4719-85b6-d6ba80f99843",
   "metadata": {},
   "source": [
    "## Analysis of Linear SVM tuning\n",
    "In our analysis of the Linear SVM, after computing all of the linear models using the different Regularization strengths, we measure 4 different metrics.\n",
    "- Error Rate : the proportion of misclassified instances\n",
    "- Precision : proportion of models ability to correctly predict positive cases (minimize false positives)\n",
    "- Recall : proportion of true positive predictions out of all the actual positive cases (minimize false negatives)\n",
    "- F1 score: the mean between precision and recall finds the best model that captures the balance between minimizing both false positives and negatives.\n",
    "\n",
    "From the graphs shown above, we can clearly tell that when using a Linear SVM a regularization strength of .001 gives us the best overall performance. If we were to focus only on the precision metric we cold arge that choosing to go with .01 would be better, but for our dataset we want a good balance of both false positives and negatives. So if we choose based off the error rate as well as the F1 score we can confidently say that choosing the Linear SVM model with a regularization strength of .001 is the best choice.\n"
   ]
  },
  {
   "cell_type": "code",
   "execution_count": 6,
   "id": "9bd9202b-831b-4e53-857a-eceff8926fee",
   "metadata": {},
   "outputs": [
    {
     "name": "stdout",
     "output_type": "stream",
     "text": [
      "Num GPUs Available:  0\n"
     ]
    }
   ],
   "source": [
    "import tensorflow as tf\n",
    "\n",
    "print(\"Num GPUs Available: \", len(tf.config.experimental.list_physical_devices('GPU')))"
   ]
  },
  {
   "cell_type": "code",
   "execution_count": 7,
   "id": "61bdc5c2-524a-4f91-af50-0446541a3dc7",
   "metadata": {},
   "outputs": [
    {
     "ename": "MemoryError",
     "evalue": "Unable to allocate 16.7 GiB for an array with shape (25000, 89527) and data type float64",
     "output_type": "error",
     "traceback": [
      "\u001b[1;31m---------------------------------------------------------------------------\u001b[0m",
      "\u001b[1;31mMemoryError\u001b[0m                               Traceback (most recent call last)",
      "Cell \u001b[1;32mIn[7], line 8\u001b[0m\n\u001b[0;32m      6\u001b[0m \u001b[38;5;66;03m#convert to dense array\u001b[39;00m\n\u001b[0;32m      7\u001b[0m X_train_dense \u001b[38;5;241m=\u001b[39m X_train_csr\u001b[38;5;241m.\u001b[39mtoarray()\n\u001b[1;32m----> 8\u001b[0m X_test_dense \u001b[38;5;241m=\u001b[39m \u001b[43mX_test_csr\u001b[49m\u001b[38;5;241;43m.\u001b[39;49m\u001b[43mtoarray\u001b[49m\u001b[43m(\u001b[49m\u001b[43m)\u001b[49m \n\u001b[0;32m      9\u001b[0m y_train_binary \u001b[38;5;241m=\u001b[39m np\u001b[38;5;241m.\u001b[39marray(y_train_binary)\n\u001b[0;32m     10\u001b[0m y_test_binary \u001b[38;5;241m=\u001b[39m np\u001b[38;5;241m.\u001b[39marray(y_test_binary)\n",
      "File \u001b[1;32m~\\miniconda3\\envs\\cs178\\lib\\site-packages\\scipy\\sparse\\_compressed.py:1050\u001b[0m, in \u001b[0;36m_cs_matrix.toarray\u001b[1;34m(self, order, out)\u001b[0m\n\u001b[0;32m   1048\u001b[0m \u001b[38;5;28;01mif\u001b[39;00m out \u001b[38;5;129;01mis\u001b[39;00m \u001b[38;5;28;01mNone\u001b[39;00m \u001b[38;5;129;01mand\u001b[39;00m order \u001b[38;5;129;01mis\u001b[39;00m \u001b[38;5;28;01mNone\u001b[39;00m:\n\u001b[0;32m   1049\u001b[0m     order \u001b[38;5;241m=\u001b[39m \u001b[38;5;28mself\u001b[39m\u001b[38;5;241m.\u001b[39m_swap(\u001b[38;5;124m'\u001b[39m\u001b[38;5;124mcf\u001b[39m\u001b[38;5;124m'\u001b[39m)[\u001b[38;5;241m0\u001b[39m]\n\u001b[1;32m-> 1050\u001b[0m out \u001b[38;5;241m=\u001b[39m \u001b[38;5;28;43mself\u001b[39;49m\u001b[38;5;241;43m.\u001b[39;49m\u001b[43m_process_toarray_args\u001b[49m\u001b[43m(\u001b[49m\u001b[43morder\u001b[49m\u001b[43m,\u001b[49m\u001b[43m \u001b[49m\u001b[43mout\u001b[49m\u001b[43m)\u001b[49m\n\u001b[0;32m   1051\u001b[0m \u001b[38;5;28;01mif\u001b[39;00m \u001b[38;5;129;01mnot\u001b[39;00m (out\u001b[38;5;241m.\u001b[39mflags\u001b[38;5;241m.\u001b[39mc_contiguous \u001b[38;5;129;01mor\u001b[39;00m out\u001b[38;5;241m.\u001b[39mflags\u001b[38;5;241m.\u001b[39mf_contiguous):\n\u001b[0;32m   1052\u001b[0m     \u001b[38;5;28;01mraise\u001b[39;00m \u001b[38;5;167;01mValueError\u001b[39;00m(\u001b[38;5;124m'\u001b[39m\u001b[38;5;124mOutput array must be C or F contiguous\u001b[39m\u001b[38;5;124m'\u001b[39m)\n",
      "File \u001b[1;32m~\\miniconda3\\envs\\cs178\\lib\\site-packages\\scipy\\sparse\\_base.py:1267\u001b[0m, in \u001b[0;36m_spbase._process_toarray_args\u001b[1;34m(self, order, out)\u001b[0m\n\u001b[0;32m   1265\u001b[0m     \u001b[38;5;28;01mreturn\u001b[39;00m out\n\u001b[0;32m   1266\u001b[0m \u001b[38;5;28;01melse\u001b[39;00m:\n\u001b[1;32m-> 1267\u001b[0m     \u001b[38;5;28;01mreturn\u001b[39;00m \u001b[43mnp\u001b[49m\u001b[38;5;241;43m.\u001b[39;49m\u001b[43mzeros\u001b[49m\u001b[43m(\u001b[49m\u001b[38;5;28;43mself\u001b[39;49m\u001b[38;5;241;43m.\u001b[39;49m\u001b[43mshape\u001b[49m\u001b[43m,\u001b[49m\u001b[43m \u001b[49m\u001b[43mdtype\u001b[49m\u001b[38;5;241;43m=\u001b[39;49m\u001b[38;5;28;43mself\u001b[39;49m\u001b[38;5;241;43m.\u001b[39;49m\u001b[43mdtype\u001b[49m\u001b[43m,\u001b[49m\u001b[43m \u001b[49m\u001b[43morder\u001b[49m\u001b[38;5;241;43m=\u001b[39;49m\u001b[43morder\u001b[49m\u001b[43m)\u001b[49m\n",
      "\u001b[1;31mMemoryError\u001b[0m: Unable to allocate 16.7 GiB for an array with shape (25000, 89527) and data type float64"
     ]
    }
   ],
   "source": [
    "# implementing feedforward neural network\n",
    "from keras.models import Sequential\n",
    "from keras.layers import Dense, Dropout\n",
    "from keras.optimizers import Adam,SGD\n",
    "\n",
    "#convert to dense array\n",
    "X_train_dense = X_train_csr.toarray()\n",
    "X_test_dense = X_test_csr.toarray() \n",
    "y_train_binary = np.array(y_train_binary)\n",
    "y_test_binary = np.array(y_test_binary)\n",
    "\n",
    "#making sure we are using nparrays in order to pass through the neural network\n",
    "# print(type(X_train_dense), X_train_dense.shape)\n",
    "# print(type(X_test_dense), X_test_dense.shape)\n",
    "# print(type(y_train_binary))\n",
    "# print(type(y_test_binary))\n",
    "\n",
    "#optimizer learning rate:\n",
    "optimizer = Adam(learning_rate=.00001)\n",
    "\n",
    "model = Sequential()\n",
    "model.add(Dense(128, activation='relu', input_dim=num_features))\n",
    "model.add(Dropout(0.1))  # dropout layer to prevent overfitting\n",
    "model.add(Dense(128, activation='relu'))\n",
    "model.add(Dropout(0.1))\n",
    "model.add(Dense(128, activation='relu'))\n",
    "model.add(Dropout(0.1))\n",
    "# model.add(Dense(128, activation='relu'))\n",
    "# model.add(Dropout(0.3))\n",
    "model.add(Dense(1, activation='sigmoid'))  # output layer for binary classification\n",
    "\n",
    "#will adjust the optimizer ~ SGD,adam,rmsprop,adamax,nadam,etc.\n",
    "model.compile(optimizer=optimizer, loss='binary_crossentropy', metrics=['accuracy'])\n",
    "\n",
    "#will adjust epochs, batch_size, and validation_split to find the optimal range\n",
    "history = model.fit(X_train_dense, y_train_binary, epochs=8, batch_size=32, validation_split=0.20)\n",
    "\n",
    "loss, accuracy = model.evaluate(X_test_dense, y_test_binary)\n",
    "error_rate = 1 - accuracy\n",
    "\n",
    "print(f\"Test Loss: {loss:.4f} , Test accuracy: {accuracy:.4f} , Test Error Rate: {error_rate:.4f}\")\n"
   ]
  },
  {
   "cell_type": "markdown",
   "id": "88af1254",
   "metadata": {},
   "source": [
    "## Feedforward Neural Network\n",
    "The third model we chose was a feedforward neural network, which allowed us to create a less complex neural network to prevent overfitting."
   ]
  },
  {
   "cell_type": "markdown",
   "id": "d7fbf27a-9028-48ec-9174-1df31269cad5",
   "metadata": {},
   "source": [
    "## Hyperparameters to adjust and test:\n",
    "- optimizer - updates the weights of the neurons during training\n",
    "- epochs - # of times we run through entire dataset forward and backwards\n",
    "- batch_size - #of samples per update ~ takes the total amount of bags for training and divides by batchsize to show how much we are running per epoch\n",
    "- validation_split : splits data into training data and test data, .2 = 20% saved for validation and does not get passed for training\n",
    "  "
   ]
  },
  {
   "cell_type": "code",
   "execution_count": null,
   "id": "67c2c64a-800f-441d-bb17-fc7eed0e01fb",
   "metadata": {},
   "outputs": [],
   "source": [
    "from keras.models import Sequential\n",
    "from keras.layers import Dense, Dropout\n",
    "from keras.optimizers import Adam\n",
    "from keras.callbacks import EarlyStopping\n",
    "import numpy as np\n",
    "\n",
    "X_train_dense = X_train_csr.toarray()\n",
    "X_test_dense = X_test_csr.toarray() \n",
    "y_train_binary = np.array(y_train_binary)\n",
    "y_test_binary = np.array(y_test_binary)\n",
    "\n",
    "def create_model(num_features, hidden_layers, neurons, dropout_rate, learning_rate):\n",
    "    model = Sequential()\n",
    "    model.add(Dense(neurons, activation='relu', input_dim=num_features))\n",
    "    for _ in range(hidden_layers - 1):\n",
    "        model.add(Dense(neurons, activation='relu'))\n",
    "        model.add(Dropout(dropout_rate))\n",
    "    model.add(Dense(1, activation='sigmoid'))  # Binary classification\n",
    "\n",
    "    optimizer = Adam(learning_rate=learning_rate)\n",
    "    model.compile(optimizer=optimizer, loss='binary_crossentropy', metrics=['accuracy'])\n",
    "    return model\n",
    "\n",
    "# Hyperparameters Grid\n",
    "layer_options = [1, 2, 3]  # Example: trying 1, 2, and 3 hidden layers\n",
    "neurons_options = [32, 64, 128]\n",
    "dropout_options = [.1, 0.3, 0.5]\n",
    "learning_rate_options = [0.001, 0.0001, 0.00001]\n",
    "\n",
    "best_accuracy = 0\n",
    "best_params = {}\n",
    "\n",
    "for layers in layer_options:\n",
    "    for neurons in neurons_options:\n",
    "        for dropout_rate in dropout_options:\n",
    "            for learning_rate in learning_rate_options:\n",
    "                print(f\"Layers: {layers}, Neurons: {neurons}, Dropout: {dropout_rate}, LR: {learning_rate}\")\n",
    "                model = create_model(num_features, layers, neurons, dropout_rate, learning_rate)\n",
    "                \n",
    "                # Early stopping\n",
    "                early_stopping = EarlyStopping(monitor='val_loss', patience=3, verbose=1, mode='min')\n",
    "\n",
    "                # Fit the model\n",
    "                model.fit(X_train_dense, y_train_binary, epochs=10, batch_size=32, validation_split=0.20, callbacks=[early_stopping])\n",
    "                loss, accuracy = model.evaluate(X_test_dense, y_test_binary)\n",
    "\n",
    "                print(f\"Layers: {layers}, Neurons: {neurons}, Dropout: {dropout_rate}, LR: {learning_rate}, Test Accuracy: {accuracy:.4f}\")\n",
    "\n",
    "                if accuracy > best_accuracy:\n",
    "                    best_accuracy = accuracy\n",
    "                    best_params = {'layers': layers, 'neurons': neurons, 'dropout_rate': dropout_rate, 'learning_rate': learning_rate}\n",
    "\n",
    "print(\"Best Hyperparameters:\", best_params)\n"
   ]
  },
  {
   "cell_type": "markdown",
   "id": "32d07334",
   "metadata": {},
   "source": [
    "## Decision Trees\n",
    "The fourth model we used was decision trees. Since the dataset had so many features and data points, we tested changing some hyperparameters that we thought would be the most effective in reducing overfitting, like mininum sample split, mininum sample leaf, and maximum number of features. Although it did take us more time, we used entropy as our criterion as it gave slightly more accurate results compared to gini. "
   ]
  },
  {
   "cell_type": "markdown",
   "id": "b4eb9cdf",
   "metadata": {},
   "source": [
    "Testing different min sample splits"
   ]
  },
  {
   "cell_type": "code",
   "execution_count": null,
   "id": "d2edf53c-f1ad-4901-86bd-e98dacf58bb4",
   "metadata": {},
   "outputs": [],
   "source": [
    "train_error = []\n",
    "test_error = []\n",
    "min_samples_split_options = [10,50,100,200,300,400,500,600,700,800,900,1000,1500,2000]\n",
    "\n",
    "for min_samples_split in min_samples_split_options:\n",
    "    dec_tree_model = DecisionTreeClassifier(criterion='entropy', min_samples_split=min_samples_split, random_state=123)\n",
    "    dec_tree_model.fit(X_train_csr,y_train_binary)\n",
    "    \n",
    "    #training\n",
    "    dec_tree_train_pred = dec_tree_model.predict(X_train_csr)\n",
    "    \n",
    "    #testing\n",
    "    dec_tree_test_pred = dec_tree_model.predict(X_test_csr)\n",
    "    \n",
    "    train_error.append(zero_one_loss(dec_tree_train_pred,y_train_binary))\n",
    "    test_error.append(zero_one_loss(dec_tree_test_pred,y_test_binary))\n",
    "    \n",
    "fig = plt.figure()\n",
    "ax = fig.add_subplot(1, 1, 1)\n",
    "ax.plot(min_samples_split_options, train_error)\n",
    "ax.plot(min_samples_split_options, test_error)\n",
    "plt.legend(['Training Error','Testing Error'])\n",
    "plt.xlabel = 'Min Samples Split'\n",
    "plt.yabel = 'Error Rate'\n",
    "plt.show()"
   ]
  },
  {
   "cell_type": "markdown",
   "id": "9bcb88e6",
   "metadata": {},
   "source": [
    "Testing different min samples leaf"
   ]
  },
  {
   "cell_type": "code",
   "execution_count": null,
   "id": "c7ac4458",
   "metadata": {},
   "outputs": [],
   "source": [
    "train_error = []\n",
    "test_error = []\n",
    "min_samples_leaf_options = [10,20,30,50,70,100,200,300,400,500]\n",
    "\n",
    "\n",
    "\n",
    "for min_samples_leaf in min_samples_leaf_options:\n",
    "    dec_tree_model = DecisionTreeClassifier(criterion='entropy', min_samples_leaf=min_samples_leaf, random_state=123)\n",
    "    dec_tree_model.fit(X_train_csr,y_train_binary)\n",
    "\n",
    "    dec_tree_train_pred = dec_tree_model.predict(X_train_csr)\n",
    "    dec_tree_test_pred = dec_tree_model.predict(X_test_csr)\n",
    "    \n",
    "    train_error.append(zero_one_loss(dec_tree_train_pred,y_train_binary))\n",
    "    test_error.append(zero_one_loss(dec_tree_test_pred,y_test_binary))\n",
    "    \n",
    "fig = plt.figure()\n",
    "ax = fig.add_subplot(1, 1, 1)\n",
    "ax.plot(min_samples_leaf_options, train_error)\n",
    "ax.plot(min_samples_leaf_options, test_error)\n",
    "plt.legend(['Training Error','Testing Error'])\n",
    "plt.xlabel = 'Min Samples Leaf'\n",
    "plt.yabel = 'Error Rate'\n",
    "plt.show()"
   ]
  },
  {
   "cell_type": "markdown",
   "id": "13ffa7ac",
   "metadata": {},
   "source": [
    "Testing different max features"
   ]
  },
  {
   "cell_type": "code",
   "execution_count": null,
   "id": "aff04b13",
   "metadata": {},
   "outputs": [],
   "source": [
    "train_error = []\n",
    "test_error = []\n",
    "max_features_options = [1,100,500,1000,2000,3000,4000,5000,7000,10000]\n",
    "\n",
    "for max_features in max_features_options:\n",
    "    dec_tree_model = DecisionTreeClassifier(criterion='entropy', max_features=max_features, random_state=123)\n",
    "    dec_tree_model.fit(X_train_csr,y_train_binary)\n",
    "\n",
    "    dec_Tree_train_pred = dec_tree_model.predict(X_train_csr)\n",
    "    dec_Tree_test_pred = dec_tree_model.predict(X_test_csr)\n",
    "    \n",
    "    train_error.append(zero_one_loss(dec_Tree_train_pred,y_train_binary))\n",
    "    test_error.append(zero_one_loss(dec_Tree_test_pred,y_test_binary))\n",
    "    \n",
    "fig = plt.figure()\n",
    "ax = fig.add_subplot(1, 1, 1)\n",
    "ax.plot(max_features_options, train_error)\n",
    "ax.plot(max_features_options, test_error)\n",
    "plt.legend(['Training Error','Testing Error'])\n",
    "plt.xlabel = 'Max Features'\n",
    "plt.yabel = 'Error Rate'\n",
    "plt.show()"
   ]
  },
  {
   "cell_type": "markdown",
   "id": "f2a5288f",
   "metadata": {},
   "source": [
    "Finally we combined all three parameters to get our final results using a decision tree classifier"
   ]
  },
  {
   "cell_type": "code",
   "execution_count": null,
   "id": "18b325a3",
   "metadata": {
    "scrolled": true
   },
   "outputs": [],
   "source": [
    "dec_tree_model = DecisionTreeClassifier(criterion='entropy', min_samples_split= 600, min_samples_leaf = 70, max_features=5000, random_state=123)\n",
    "dec_tree_model.fit(X_train_csr,y_train_binary)\n",
    "train_pred=dec_tree_model.predict(X_train_csr)\n",
    "test_pred=dec_tree_model.predict(X_test_csr)\n",
    "\n",
    "print(f\"Training Error: {zero_one_loss(train_pred,y_train_binary)}\")\n",
    "print(f\"Training f1 score: {f1_score(y_train_binary, train_pred)}\")\n",
    "print(f\"Testing Error: {zero_one_loss(test_pred,y_test_binary)}\")\n",
    "print(f\"Testing f1 score: {f1_score(y_test_binary,test_pred)}\")"
   ]
  },
  {
   "cell_type": "code",
   "execution_count": null,
   "id": "06e3e65f-5e45-4b14-9e56-5b76b07ecc0b",
   "metadata": {},
   "outputs": [],
   "source": [
    "dec_tree_model = DecisionTreeClassifier(criterion='entropy', random_state=123)\n",
    "dec_tree_model.fit(X_train_csr, y_train_binary)\n",
    "train_pred=dec_tree_model.predict(X_train_csr)\n",
    "test_pred=dec_tree_model.predict(X_test_csr)\n",
    "\n",
    "print(f\"Training Error: {zero_one_loss(train_pred,y_train_binary)}\")\n",
    "print(f\"Training f1 score: {f1_score(y_train_binary, train_pred)}\")\n",
    "print(f\"Testing Error: {zero_one_loss(test_pred,y_test_binary)}\")\n",
    "print(f\"Testing f1 score: {f1_score(y_test_binary,test_pred)}\")\n"
   ]
  },
  {
   "cell_type": "markdown",
   "id": "d94ad8bb",
   "metadata": {},
   "source": [
    "## Sentiment Analysis\n",
    "Finally after training the three different classifiers, we used stacking to combine all four methods to see if we could further improve our error rates"
   ]
  },
  {
   "cell_type": "code",
   "execution_count": null,
   "id": "9534badf",
   "metadata": {},
   "outputs": [],
   "source": [
    "estimators=[\n",
    "    ('NB',MultinomialNB()),\n",
    "    ('LS',),\n",
    "    ('DT',DecisionTreeClassifier(criterion='entropy', min_samples_split= 600, min_samples_leaf = 70, max_features=5000, random_state=123))\n",
    "]"
   ]
  }
 ],
 "metadata": {
  "kernelspec": {
   "display_name": "Python 3 (ipykernel)",
   "language": "python",
   "name": "python3"
  },
  "language_info": {
   "codemirror_mode": {
    "name": "ipython",
    "version": 3
   },
   "file_extension": ".py",
   "mimetype": "text/x-python",
   "name": "python",
   "nbconvert_exporter": "python",
   "pygments_lexer": "ipython3",
   "version": "3.10.8"
  }
 },
 "nbformat": 4,
 "nbformat_minor": 5
}
