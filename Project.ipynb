{
 "cells": [
  {
   "cell_type": "markdown",
   "id": "a3b9094f-21c0-4683-b490-beb5ef42c23e",
   "metadata": {},
   "source": [
    "# CS178 Final Project\n",
    "## IMDB Reviews dataset\n",
    "### Students:\n",
    "Rebecca Park : \\\n",
    "Nick Hosun Song : 65482420"
   ]
  },
  {
   "cell_type": "code",
   "execution_count": 12,
   "id": "3280e749-2ee9-40e6-bfe5-088812ff0a19",
   "metadata": {},
   "outputs": [],
   "source": [
    "import numpy as py\n",
    "import pandas as pd\n",
    "import matplotlib.pyplot as plt\n",
    "from scipy.sparse import csr_matrix, vstack\n",
    "from sklearn.linear_model import LogisticRegression\n",
    "from sklearn.svm import SVC\n",
    "from sklearn.metrics import accuracy_score, classification_report\n",
    "## conda install libsvm\n",
    "## conda install libsvm-python\n",
    "from libsvm.svmutil import svm_train, svm_predict, svm_problem, svm_parameter , svm_read_problem\n"
   ]
  },
  {
   "cell_type": "code",
   "execution_count": 9,
   "id": "f885b952-75b6-4af0-ae1c-36994bd6876e",
   "metadata": {},
   "outputs": [],
   "source": [
    "#Load the vocab from given data will correlate to bagofwords(feat) file\n",
    "def load_vocab(vocab_file):\n",
    "    with open(vocab_file, 'r',encoding ='utf-8') as file:\n",
    "        vocab = file.read().splitlines()\n",
    "    return {index: word for index, word in enumerate(vocab)}\n",
    "\n",
    "vocab = load_vocab('imdb.vocab')\n",
    "# Format of libsvm files : <label> { (feature index from imdb.vocab) : (appears this many times in review) ... }\n",
    "y_train, X_train = svm_read_problem('train/labeledBow.feat')\n",
    "y_test, X_test = svm_read_problem('test/labeledBow.feat')\n"
   ]
  }
 ],
 "metadata": {
  "kernelspec": {
   "display_name": "Python 3 (ipykernel)",
   "language": "python",
   "name": "python3"
  },
  "language_info": {
   "codemirror_mode": {
    "name": "ipython",
    "version": 3
   },
   "file_extension": ".py",
   "mimetype": "text/x-python",
   "name": "python",
   "nbconvert_exporter": "python",
   "pygments_lexer": "ipython3",
   "version": "3.10.13"
  }
 },
 "nbformat": 4,
 "nbformat_minor": 5
}
