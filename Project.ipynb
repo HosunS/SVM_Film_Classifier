{
 "cells": [
  {
   "cell_type": "markdown",
   "id": "a3b9094f-21c0-4683-b490-beb5ef42c23e",
   "metadata": {},
   "source": [
    "# CS178 Final Project\n",
    "## IMDB Reviews dataset\n",
    "### Students:\n",
    "Rebecca Park : 50269810\\\n",
    "Nick Hosun Song : 65482420"
   ]
  },
  {
   "cell_type": "code",
   "execution_count": 3,
   "id": "3280e749-2ee9-40e6-bfe5-088812ff0a19",
   "metadata": {},
   "outputs": [],
   "source": [
    "import numpy as py\n",
    "import pandas as pd\n",
    "import matplotlib.pyplot as plt\n",
    "from scipy.sparse import csr_matrix, vstack\n",
    "from sklearn.linear_model import LogisticRegression\n",
    "from sklearn.svm import SVC\n",
    "from sklearn.metrics import accuracy_score, classification_report,zero_one_loss\n",
    "from sklearn.tree import DecisionTreeClassifier\n",
    "from scipy.sparse import csr_matrix\n",
    "## conda install libsvm\n",
    "## conda install libsvm-python\n",
    "from libsvm.svmutil import svm_train, svm_predict, svm_problem, svm_parameter , svm_read_problem\n",
    "\n"
   ]
  },
  {
   "cell_type": "code",
   "execution_count": 4,
   "id": "f885b952-75b6-4af0-ae1c-36994bd6876e",
   "metadata": {},
   "outputs": [
    {
     "name": "stdout",
     "output_type": "stream",
     "text": [
      "Accuracy: 0.86768\n",
      "Classification Report:\n",
      "               precision    recall  f1-score   support\n",
      "\n",
      "           0       0.86      0.87      0.87     12500\n",
      "           1       0.87      0.86      0.87     12500\n",
      "\n",
      "    accuracy                           0.87     25000\n",
      "   macro avg       0.87      0.87      0.87     25000\n",
      "weighted avg       0.87      0.87      0.87     25000\n",
      "\n"
     ]
    }
   ],
   "source": [
    "#Load the vocab from given data will correlate to bagofwords(feat) file\n",
    "def load_vocab(vocab_file):\n",
    "    with open(vocab_file, 'r',encoding ='utf-8') as file:\n",
    "        vocab = file.read().splitlines()\n",
    "    return {index: word for index, word in enumerate(vocab)}\n",
    "#convert data from svm_read_problem into csr to se for logistic regression\n",
    "#format for csr [data] , [indices], [indexptr]\n",
    "def convert_to_csr(data, num_features):\n",
    "    row_ind = []\n",
    "    col_ind = []\n",
    "    data_values = []\n",
    "\n",
    "    for i, row in enumerate(data):\n",
    "        for j, value in row.items():\n",
    "            row_ind.append(i)\n",
    "            col_ind.append(j)\n",
    "            data_values.append(value)\n",
    "\n",
    "    csr_data = csr_matrix((data_values, (row_ind, col_ind)), shape=(len(data), num_features))\n",
    "    return csr_data\n",
    "    \n",
    "vocab = load_vocab('imdb.vocab')\n",
    "\n",
    "# Format of libsvm files : <label> { (feature index from imdb.vocab) : (appears this many times in review) ... }\n",
    "y_train, X_train = svm_read_problem('train/labeledBow.feat')\n",
    "y_test, X_test = svm_read_problem('test/labeledBow.feat')\n",
    "\n",
    "num_features = len(vocab)\n",
    "\n",
    "X_train_csr = convert_to_csr(X_train,num_features)\n",
    "X_test_csr = convert_to_csr(X_test,num_features)\n",
    "\n",
    "# 1 ( 7, 8 , 9 ,10)  for positive reviews, 0 (1,2,3,4) for negative reviews\n",
    "y_train_bin = [1 if y > 6 else 0 for y in y_train]\n",
    "y_test_bin = [1 if y > 6 else 0 for y in y_test] \n",
    "\n",
    "log_reg_model = LogisticRegression(max_iter=5000)\n",
    "log_reg_model.fit(X_train_csr,y_train_bin)\n",
    "\n",
    "y_pred = log_reg_model.predict(X_test_csr)\n",
    "print(\"Accuracy:\",accuracy_score(y_test_bin,y_pred))\n",
    "print(\"Classification Report:\\n\", classification_report(y_test_bin,y_pred))\n"
   ]
  },
  {
   "cell_type": "code",
   "execution_count": 12,
   "id": "d2edf53c-f1ad-4901-86bd-e98dacf58bb4",
   "metadata": {},
   "outputs": [
    {
     "name": "stdout",
     "output_type": "stream",
     "text": [
      "Min sample split: 10\n",
      "Min sample split: 30\n",
      "Min sample split: 50\n",
      "Min sample split: 80\n",
      "Min sample split: 100\n",
      "Min sample split: 150\n",
      "Min sample split: 200\n",
      "Min sample split: 300\n",
      "Min sample split: 400\n",
      "Min sample split: 500\n",
      "Min sample split: 600\n",
      "Min sample split: 700\n",
      "Min sample split: 800\n"
     ]
    },
    {
     "data": {
      "image/png": "[encoded data removed]",
      "text/plain": [
       "<Figure size 640x480 with 1 Axes>"
      ]
     },
     "metadata": {},
     "output_type": "display_data"
    }
   ],
   "source": [
    "train_error = []\n",
    "test_error = []\n",
    "min_sample_split_options = [10,30,50,80,100,150,200,300,400,500,600,700,800]\n",
    "\n",
    "\n",
    "#just trying to see which min_sample_split is best\n",
    "#maybe we shoud try ensembles too?\n",
    "for min_sample_split in min_sample_split_options:\n",
    "    dec_tree_model = DecisionTreeClassifier(criterion='entropy', min_samples_split=min_sample_split)\n",
    "    dec_tree_model.fit(X_train_csr,y_train_bin)\n",
    "\n",
    "    dec_Tree_train_pred = dec_tree_model.predict(X_train_csr)\n",
    "    dec_Tree_test_pred = dec_tree_model.predict(X_test_csr)\n",
    "\n",
    "    #keeping track of how far we are because this takes forever to run\n",
    "    print(f\"Min sample split: {min_sample_split}\")\n",
    "    \n",
    "    #print(\"Accuracy (Training):\",accuracy_score(y_train_bin,dec_Tree_train_pred))\n",
    "    #print(\"Classification Report (Training):\\n\", classification_report(y_train_bin,dec_Tree_train_pred))\n",
    "    #print(\"Accuracy (Testing):\",accuracy_score(y_test_bin,dec_Tree_test_pred))\n",
    "    #print(\"Classification Report (Testing):\\n\", classification_report(y_test_bin,dec_Tree_test_pred))\n",
    "    \n",
    "    train_error.append(zero_one_loss(dec_Tree_train_pred,y_train_bin))\n",
    "    test_error.append(zero_one_loss(dec_Tree_test_pred,y_test_bin))\n",
    "    \n",
    "fig = plt.figure()\n",
    "ax = fig.add_subplot(1, 1, 1)\n",
    "ax.plot(min_sample_split_options, train_error)\n",
    "ax.plot(min_sample_split_options, test_error)\n",
    "plt.legend(['Training Error','Testing Error'])\n",
    "plt.show()"
   ]
  },
  {
   "cell_type": "code",
   "execution_count": null,
   "id": "dd295bc9",
   "metadata": {},
   "outputs": [],
   "source": []
  }
 ],
 "metadata": {
  "kernelspec": {
   "display_name": "Python 3 (ipykernel)",
   "language": "python",
   "name": "python3"
  },
  "language_info": {
   "codemirror_mode": {
    "name": "ipython",
    "version": 3
   },
   "file_extension": ".py",
   "mimetype": "text/x-python",
   "name": "python",
   "nbconvert_exporter": "python",
   "pygments_lexer": "ipython3",
   "version": "3.10.13"
  }
 },
 "nbformat": 4,
 "nbformat_minor": 5
}
